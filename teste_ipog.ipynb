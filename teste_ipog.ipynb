{
  "nbformat": 4,
  "nbformat_minor": 0,
  "metadata": {
    "colab": {
      "provenance": []
    },
    "kernelspec": {
      "name": "python3",
      "display_name": "Python 3"
    },
    "language_info": {
      "name": "python"
    }
  },
  "cells": [
    {
      "cell_type": "markdown",
      "source": [
        "# 1. Dados Pessoais\n",
        "\n",
        "**Nome:** André Salerno  \n",
        "**Email:** [andresalerno@example.com](mailto:andresalerno@example.com)  \n",
        "**LinkedIn:** [linkedin.com/in/andresalerno](https://www.linkedin.com/in/andresalerno)  \n",
        "**Instagram:** [@andre.salerno](https://www.instagram.com/andre.salerno)\n",
        "\n",
        "---\n",
        "\n",
        "# 2. Objetivo\n",
        "\n",
        "Meu objetivo profissional é aplicar minhas habilidades e conhecimentos em **Análise de Dados** para ajudar empresas a tomarem decisões baseadas em dados. Busco sempre me aprimorar em técnicas de **machine learning**, **análise preditiva** e **visualização de dados**, utilizando ferramentas como **Python**, **Pandas**, **Scikit-learn**, e **Power BI**.\n",
        "\n",
        "---\n",
        "\n",
        "# 3. Habilidades (Hard e Soft Skills)\n",
        "\n",
        "## 3.1 **Hard Skills**\n",
        "- **Análise de Dados**: Experiência prática com ferramentas como **Pandas**, **NumPy**, e **Matplotlib** para análise e visualização de dados.\n",
        "- **Modelagem Preditiva**: Conhecimento de técnicas de **regressão**, **classificação** e **agrupamento** (machine learning) com **Scikit-learn**.\n",
        "- **SQL**: Habilidade para extrair, manipular e analisar dados em bancos de dados relacionais.\n",
        "- **Power BI**: Criação de dashboards interativos e relatórios analíticos para insights de negócios.\n",
        "- **Python**: Proficiência em programação para análise de dados e automação de tarefas.\n",
        "\n",
        "## 3.2 **Soft Skills**\n",
        "- **Comunicação**: Capacidade de explicar conceitos complexos de maneira clara e acessível, tanto para públicos técnicos quanto não técnicos.\n",
        "- **Trabalho em Equipe**: Colaboração com equipes multidisciplinares para alcançar objetivos comuns.\n",
        "- **Pensamento Crítico**: Análise de problemas de forma lógica e objetiva, buscando soluções eficientes.\n",
        "- **Gestão de Tempo**: Capacidade de organizar e priorizar tarefas, garantindo entregas dentro dos prazos estipulados.\n",
        "\n",
        "---\n",
        "\n",
        "# 4. Breve Descrição sobre minhas Skills\n",
        "\n",
        "Sou um **analista de dados** apaixonado por resolver problemas complexos utilizando dados. Tenho uma sólida **formação acadêmica** e **experiência prática** com ferramentas de análise e visualização de dados, como **Python** e **Power BI**. Além disso, sou constantemente **proativo em aprender novas ferramentas** e técnicas para melhorar o meu trabalho, e busco sempre transformar **dados em informações valiosas** para a tomada de decisões.\n",
        "\n",
        "Combinando **hard skills** como programação e análise quantitativa com **soft skills** como comunicação e gestão de tempo, estou preparado para enfrentar desafios e colaborar com equipes para alcançar resultados significativos.\n"
      ],
      "metadata": {
        "id": "70G7RswMqsdZ"
      }
    },
    {
      "cell_type": "markdown",
      "source": [
        "# 5. Introdução ao Python\n",
        "\n",
        "Sou um **analista de dados** apaixonado por resolver problemas complexos utilizando dados. Tenho uma sólida **formação acadêmica** e **experiência prática** com ferramentas de análise e visualização de dados, como **Python** e **Power BI**. Além disso, sou constantemente **proativo em aprender novas ferramentas** e técnicas para melhorar o meu trabalho, e busco sempre transformar **dados em informações valiosas** para a tomada de decisões."
      ],
      "metadata": {
        "id": "GoXhle2FsS3U"
      }
    },
    {
      "cell_type": "code",
      "source": [
        "import sys\n",
        "\n",
        "print(sys.version)"
      ],
      "metadata": {
        "colab": {
          "base_uri": "https://localhost:8080/"
        },
        "id": "3ZwAENYS7o4J",
        "outputId": "6403935a-af74-4945-c099-d144b8a1cb8a"
      },
      "execution_count": 2,
      "outputs": [
        {
          "output_type": "stream",
          "name": "stdout",
          "text": [
            "3.12.11 (main, Jun  4 2025, 08:56:18) [GCC 11.4.0]\n"
          ]
        }
      ]
    },
    {
      "cell_type": "code",
      "source": [
        "# isso funciona no ambiente criado mas não aqui\n",
        "!python -m plataform"
      ],
      "metadata": {
        "colab": {
          "base_uri": "https://localhost:8080/"
        },
        "id": "MxY-S2Ao7xSi",
        "outputId": "7ca76fde-4418-4636-9c7a-58ac67cdde3f"
      },
      "execution_count": 3,
      "outputs": [
        {
          "output_type": "stream",
          "name": "stdout",
          "text": [
            "/usr/bin/python3: No module named plataform\n"
          ]
        }
      ]
    },
    {
      "cell_type": "code",
      "source": [
        "# soma\n",
        "2 + 2"
      ],
      "metadata": {
        "id": "8yP7vSFseOm_",
        "outputId": "449e8f35-844a-4ac3-dd23-97f0b5f8ffa0",
        "colab": {
          "base_uri": "https://localhost:8080/"
        }
      },
      "execution_count": 4,
      "outputs": [
        {
          "output_type": "execute_result",
          "data": {
            "text/plain": [
              "4"
            ]
          },
          "metadata": {},
          "execution_count": 4
        }
      ]
    },
    {
      "cell_type": "code",
      "source": [
        "# subtração\n",
        "2 - 2"
      ],
      "metadata": {
        "colab": {
          "base_uri": "https://localhost:8080/"
        },
        "id": "P3XAiumcCe0-",
        "outputId": "bb295462-db26-4c59-cded-10927c7cc06e"
      },
      "execution_count": 5,
      "outputs": [
        {
          "output_type": "execute_result",
          "data": {
            "text/plain": [
              "0"
            ]
          },
          "metadata": {},
          "execution_count": 5
        }
      ]
    },
    {
      "cell_type": "code",
      "source": [
        "# divisão\n",
        "10 / 5"
      ],
      "metadata": {
        "id": "PgPl25EPCnHB",
        "outputId": "9ba5a52e-2db6-456f-8cf3-38ccce602ae6",
        "colab": {
          "base_uri": "https://localhost:8080/"
        }
      },
      "execution_count": 6,
      "outputs": [
        {
          "output_type": "execute_result",
          "data": {
            "text/plain": [
              "2.0"
            ]
          },
          "metadata": {},
          "execution_count": 6
        }
      ]
    },
    {
      "cell_type": "code",
      "source": [
        "# resto\n",
        "10 % 3"
      ],
      "metadata": {
        "colab": {
          "base_uri": "https://localhost:8080/"
        },
        "id": "17YGVQu98HhZ",
        "outputId": "adcbde23-43eb-47ed-fa7b-c9df5915cfb8"
      },
      "execution_count": 8,
      "outputs": [
        {
          "output_type": "execute_result",
          "data": {
            "text/plain": [
              "1"
            ]
          },
          "metadata": {},
          "execution_count": 8
        }
      ]
    },
    {
      "cell_type": "code",
      "source": [
        "# divisão quebrada\n",
        "10 / 3"
      ],
      "metadata": {
        "colab": {
          "base_uri": "https://localhost:8080/"
        },
        "id": "9zLD6pVM8Mkj",
        "outputId": "f91594cb-e5eb-471a-b03e-a3317a96a7f8"
      },
      "execution_count": 9,
      "outputs": [
        {
          "output_type": "execute_result",
          "data": {
            "text/plain": [
              "3.3333333333333335"
            ]
          },
          "metadata": {},
          "execution_count": 9
        }
      ]
    },
    {
      "cell_type": "code",
      "source": [
        "# multiplicação\n",
        "\n",
        "2 * 2"
      ],
      "metadata": {
        "colab": {
          "base_uri": "https://localhost:8080/"
        },
        "id": "cZnA7Ps58W2c",
        "outputId": "ecc8b4d2-ff6d-437f-8681-b6b400e72e7f"
      },
      "execution_count": 10,
      "outputs": [
        {
          "output_type": "execute_result",
          "data": {
            "text/plain": [
              "4"
            ]
          },
          "metadata": {},
          "execution_count": 10
        }
      ]
    },
    {
      "cell_type": "code",
      "source": [
        "# exponencial\n",
        "\n",
        "10 ** 2"
      ],
      "metadata": {
        "colab": {
          "base_uri": "https://localhost:8080/"
        },
        "id": "38JQlFBF8aFK",
        "outputId": "2056bcac-7c3e-4b8e-b645-cb3f0877eee1"
      },
      "execution_count": 11,
      "outputs": [
        {
          "output_type": "execute_result",
          "data": {
            "text/plain": [
              "100"
            ]
          },
          "metadata": {},
          "execution_count": 11
        }
      ]
    },
    {
      "cell_type": "code",
      "source": [
        "import math as mt\n",
        "\n",
        "# raiz\n",
        "mt.sqrt(81)"
      ],
      "metadata": {
        "colab": {
          "base_uri": "https://localhost:8080/"
        },
        "id": "uB3qjsSE84z3",
        "outputId": "62d0e915-9e52-4689-f665-49b4a3a249c5"
      },
      "execution_count": 15,
      "outputs": [
        {
          "output_type": "execute_result",
          "data": {
            "text/plain": [
              "9.0"
            ]
          },
          "metadata": {},
          "execution_count": 15
        }
      ]
    },
    {
      "cell_type": "code",
      "source": [
        "# soma de dois numeros flutuantes\n",
        "num1 = 2.5\n",
        "num2 = 3.7\n",
        "soma = num1 + num2\n",
        "print(soma)"
      ],
      "metadata": {
        "colab": {
          "base_uri": "https://localhost:8080/"
        },
        "id": "fiuBKCWjDSbq",
        "outputId": "d27f79dc-0ddd-47d5-8136-893854514751"
      },
      "execution_count": 39,
      "outputs": [
        {
          "output_type": "stream",
          "name": "stdout",
          "text": [
            "6.2\n"
          ]
        }
      ]
    },
    {
      "cell_type": "code",
      "source": [
        "# exponencial de 2\n",
        "mt.exp2(2)"
      ],
      "metadata": {
        "colab": {
          "base_uri": "https://localhost:8080/"
        },
        "id": "haKvFpF5AFZ-",
        "outputId": "b587f666-d0be-471d-ff8f-3cf8bfedb458"
      },
      "execution_count": 31,
      "outputs": [
        {
          "output_type": "execute_result",
          "data": {
            "text/plain": [
              "4.0"
            ]
          },
          "metadata": {},
          "execution_count": 31
        }
      ]
    },
    {
      "cell_type": "code",
      "source": [
        "# e\n",
        "print(mt.e)\n",
        "\n",
        "# exponencial de e\n",
        "mt.exp(3)"
      ],
      "metadata": {
        "colab": {
          "base_uri": "https://localhost:8080/"
        },
        "id": "e2jYoj-oAPh3",
        "outputId": "42926b6f-fd85-478a-e24d-7686b94efee0"
      },
      "execution_count": 38,
      "outputs": [
        {
          "output_type": "stream",
          "name": "stdout",
          "text": [
            "2.718281828459045\n"
          ]
        },
        {
          "output_type": "execute_result",
          "data": {
            "text/plain": [
              "20.085536923187668"
            ]
          },
          "metadata": {},
          "execution_count": 38
        }
      ]
    },
    {
      "cell_type": "code",
      "source": [
        "# atribuição\n",
        "\n",
        "a = 2\n",
        "\n",
        "print(a)"
      ],
      "metadata": {
        "colab": {
          "base_uri": "https://localhost:8080/"
        },
        "id": "NAcdYOPH9Nhy",
        "outputId": "516d8b40-65f7-497f-99d0-9a012c698790"
      },
      "execution_count": 16,
      "outputs": [
        {
          "output_type": "stream",
          "name": "stdout",
          "text": [
            "2\n"
          ]
        }
      ]
    },
    {
      "cell_type": "code",
      "source": [
        "# atribuição\n",
        "\n",
        "b = 10\n",
        "\n",
        "print(a + b)"
      ],
      "metadata": {
        "colab": {
          "base_uri": "https://localhost:8080/"
        },
        "id": "K84DLivO9Tbl",
        "outputId": "3935494a-c545-4e99-8692-d13be4e33b9d"
      },
      "execution_count": 18,
      "outputs": [
        {
          "output_type": "stream",
          "name": "stdout",
          "text": [
            "12\n"
          ]
        }
      ]
    },
    {
      "cell_type": "code",
      "source": [
        "a = 50\n",
        "\n",
        "print(a + b)"
      ],
      "metadata": {
        "colab": {
          "base_uri": "https://localhost:8080/"
        },
        "id": "Pro9nQlE9an2",
        "outputId": "958f6a29-4366-41a7-f888-1b1e37eafa40"
      },
      "execution_count": 19,
      "outputs": [
        {
          "output_type": "stream",
          "name": "stdout",
          "text": [
            "60\n"
          ]
        }
      ]
    },
    {
      "cell_type": "code",
      "source": [
        "c = a + b\n",
        "\n",
        "print(c)"
      ],
      "metadata": {
        "colab": {
          "base_uri": "https://localhost:8080/"
        },
        "id": "EZUmVfDt9kNT",
        "outputId": "754783d2-adbc-48b9-d364-590901199703"
      },
      "execution_count": 21,
      "outputs": [
        {
          "output_type": "stream",
          "name": "stdout",
          "text": [
            "60\n"
          ]
        }
      ]
    },
    {
      "cell_type": "code",
      "source": [
        "print(type(c))"
      ],
      "metadata": {
        "colab": {
          "base_uri": "https://localhost:8080/"
        },
        "id": "ByJJmzwV9xLq",
        "outputId": "b955cdf7-510f-4449-ceef-70888815a830"
      },
      "execution_count": 22,
      "outputs": [
        {
          "output_type": "stream",
          "name": "stdout",
          "text": [
            "<class 'int'>\n"
          ]
        }
      ]
    },
    {
      "cell_type": "code",
      "source": [
        "# número flutuante\n",
        "\n",
        "d = 2.5\n",
        "\n",
        "print(d)\n",
        "\n",
        "print(type(d))"
      ],
      "metadata": {
        "colab": {
          "base_uri": "https://localhost:8080/"
        },
        "id": "Zwi8eLIK96ID",
        "outputId": "77bae647-9510-4e32-a0a1-9ac43f217242"
      },
      "execution_count": 23,
      "outputs": [
        {
          "output_type": "stream",
          "name": "stdout",
          "text": [
            "2.5\n",
            "<class 'float'>\n"
          ]
        }
      ]
    },
    {
      "cell_type": "code",
      "source": [
        "e = 'Salerno'\n",
        "\n",
        "print(e)"
      ],
      "metadata": {
        "colab": {
          "base_uri": "https://localhost:8080/"
        },
        "id": "4jibCI-E-MNH",
        "outputId": "6866da85-4e19-4b64-a2f1-0ed32b1d0f86"
      },
      "execution_count": 25,
      "outputs": [
        {
          "output_type": "stream",
          "name": "stdout",
          "text": [
            "Salerno\n"
          ]
        }
      ]
    },
    {
      "cell_type": "code",
      "source": [
        "f = \"Salerno\"\n",
        "\n",
        "print(f)"
      ],
      "metadata": {
        "colab": {
          "base_uri": "https://localhost:8080/"
        },
        "id": "pfmZ6046-apl",
        "outputId": "e6b30c5b-db9e-41a8-8e06-71c83acb945b"
      },
      "execution_count": 26,
      "outputs": [
        {
          "output_type": "stream",
          "name": "stdout",
          "text": [
            "Salerno\n"
          ]
        }
      ]
    },
    {
      "cell_type": "code",
      "source": [
        "print(type(f))"
      ],
      "metadata": {
        "colab": {
          "base_uri": "https://localhost:8080/"
        },
        "id": "XMVOlyzO-hDZ",
        "outputId": "ae89cafc-0377-4e43-a545-a38fd2f6fcd6"
      },
      "execution_count": 27,
      "outputs": [
        {
          "output_type": "stream",
          "name": "stdout",
          "text": [
            "<class 'str'>\n"
          ]
        }
      ]
    },
    {
      "cell_type": "code",
      "source": [
        "g = True\n",
        "\n",
        "print(g)"
      ],
      "metadata": {
        "colab": {
          "base_uri": "https://localhost:8080/"
        },
        "id": "6ZvsgG87-k7y",
        "outputId": "25d744fa-c60e-4a33-b053-b20aa440aa70"
      },
      "execution_count": 28,
      "outputs": [
        {
          "output_type": "stream",
          "name": "stdout",
          "text": [
            "True\n"
          ]
        }
      ]
    },
    {
      "cell_type": "code",
      "source": [
        "print(type(g))"
      ],
      "metadata": {
        "colab": {
          "base_uri": "https://localhost:8080/"
        },
        "id": "QvE_x9-9-sac",
        "outputId": "63c13e19-5c07-4244-fa57-cad08966827e"
      },
      "execution_count": 29,
      "outputs": [
        {
          "output_type": "stream",
          "name": "stdout",
          "text": [
            "<class 'bool'>\n"
          ]
        }
      ]
    }
  ]
}